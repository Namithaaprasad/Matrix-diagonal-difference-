{
  "nbformat": 4,
  "nbformat_minor": 0,
  "metadata": {
    "colab": {
      "provenance": [],
      "authorship_tag": "ABX9TyOpnlalDY8/Kh1sXDSwDjYG"
    },
    "kernelspec": {
      "name": "python3",
      "display_name": "Python 3"
    },
    "language_info": {
      "name": "python"
    }
  },
  "cells": [
    {
      "cell_type": "markdown",
      "source": [
        "Calculates the absolute difference between the sums of the primary and secondary diagonals."
      ],
      "metadata": {
        "id": "sFAy4bGjVP6K"
      }
    },
    {
      "cell_type": "code",
      "execution_count": null,
      "metadata": {
        "colab": {
          "base_uri": "https://localhost:8080/"
        },
        "id": "UGWp-vtsacbN",
        "outputId": "e8de06cc-7ae9-43ca-ec66-39b7c0b04754"
      },
      "outputs": [
        {
          "output_type": "stream",
          "name": "stdout",
          "text": [
            "Enter the size of the square matrix (n): 3\n",
            "Enter the elements of the 3x3 matrix row by row:\n",
            "Row 1:\n",
            "Enter element [1, 1]: 10\n",
            "Enter element [1, 2]: 2\n",
            "Enter element [1, 3]: 6\n",
            "Row 2:\n",
            "Enter element [2, 1]: 4\n",
            "Enter element [2, 2]: 5\n",
            "Enter element [2, 3]: 9\n",
            "Row 3:\n",
            "Enter element [3, 1]: 15\n",
            "Enter element [3, 2]: 17\n",
            "Enter element [3, 3]: 10\n",
            "The diagonal difference is: 1\n"
          ]
        }
      ],
      "source": [
        "#Initializing function\n",
        "def dia_diff(matrix):\n",
        "    n=len(matrix)\n",
        "    pri_dia=0\n",
        "    sec_dia=0\n",
        "    for i in range(n):\n",
        "        pri_dia+=matrix[i][i] #calculating primary diagonal sum\n",
        "        sec_dia+=matrix[i][n-i-1] #calculating secondary diagonal sum\n",
        "    return abs(pri_dia-sec_dia) #absolute difference computation and displaying\n",
        "\n",
        "#Initializing size of the square matrix\n",
        "n=int(input(\"Enter the size of the square matrix (n): \"))\n",
        "print(f\"Enter the elements of the {n}x{n} matrix row by row:\")\n",
        "matrix=[]\n",
        "for i in range(n):\n",
        "    row=[]\n",
        "    print(f\"Row {i+1}:\")\n",
        "    for j in range(n):\n",
        "        value=int(input(f\"Enter element [{i + 1}, {j + 1}]: \")) #Initializing each values in the matrix\n",
        "        row.append(value)\n",
        "    if len(row)!=n:\n",
        "        print(\"Error: Each row must have exactly\", n, \"elements.\")\n",
        "        exit()\n",
        "    matrix.append(row)\n",
        "diff = dia_diff(matrix)\n",
        "print(f\"The diagonal difference is: {diff}\")"
      ]
    }
  ]
}